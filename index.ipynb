{
 "metadata": {
  "language_info": {
   "codemirror_mode": {
    "name": "ipython",
    "version": 3
   },
   "file_extension": ".py",
   "mimetype": "text/x-python",
   "name": "python",
   "nbconvert_exporter": "python",
   "pygments_lexer": "ipython3",
   "version": "3.9.0-final"
  },
  "orig_nbformat": 2,
  "kernelspec": {
   "name": "python3",
   "display_name": "Python 3"
  }
 },
 "nbformat": 4,
 "nbformat_minor": 2,
 "cells": [
  {
   "source": [
    "Página de Prueba: Tésis Luis Gerardo Calderón Contreras\n",
    "Obj: Dominar el tema y presentar una idea original\n",
    "Tema: \"Cluster Analysis\"\n",
    "Utilizando: Modelos de Machine Learning\n",
    "Model Base, Ajuste con Kerneles Gaussianos\n",
    "Aplicación en \"Jupyter NoteBooks\" utilizando Python y R\n"
   ],
   "cell_type": "markdown",
   "metadata": {}
  }
 ]
}